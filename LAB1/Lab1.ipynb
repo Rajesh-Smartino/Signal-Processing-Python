{
 "cells": [
  {
   "cell_type": "code",
   "execution_count": 33,
   "id": "7988ab59-6169-4312-8203-073ef95360ce",
   "metadata": {},
   "outputs": [
    {
     "name": "stdout",
     "output_type": "stream",
     "text": [
      "w3k5p2q1r3\n",
      "jjjjjjjjjjjjrrrrkkkkkk\n"
     ]
    }
   ],
   "source": [
    "str1 = \"wwwkkkkkpqprrr\"\n",
    "count = 0\n",
    "result = \"\"\n",
    "for i in range(len(str1)):\n",
    "    k = str1.count(str1[i])\n",
    "    if str1[i] in result:\n",
    "        pass\n",
    "    else:\n",
    "        result = result+str1[i]+str(k)\n",
    "    \n",
    "print(result)\n",
    "\n",
    "import re\n",
    "\n",
    "str2 = \"j12r4k6\"\n",
    "result = \"\"\n",
    "res = re.split('(\\d+)',str2)\n",
    "for i in range(int(len(res)/2)):\n",
    "    result = result+res[2*i]*int(res[(2*i)+1])\n",
    "    \n",
    "print(result)\n"
   ]
  },
  {
   "cell_type": "code",
   "execution_count": 7,
   "id": "432ced11-9d8b-4b63-9534-4681a3fc5cdd",
   "metadata": {},
   "outputs": [
    {
     "name": "stdout",
     "output_type": "stream",
     "text": [
      "1\n"
     ]
    }
   ],
   "source": [
    "x = 1\n",
    "print(str(round(x,4)))"
   ]
  },
  {
   "cell_type": "code",
   "execution_count": null,
   "id": "e0886a41-d9f9-41a2-b77e-8b2d35b95615",
   "metadata": {},
   "outputs": [],
   "source": []
  },
  {
   "cell_type": "code",
   "execution_count": 18,
   "id": "b588dc1c-eb3d-43c7-8a34-ea4dda3c5947",
   "metadata": {},
   "outputs": [
    {
     "name": "stdout",
     "output_type": "stream",
     "text": [
      "[2, 2, 2, 3, 3]\n"
     ]
    }
   ],
   "source": [
    "import math\n",
    "x = 72\n",
    "factors = []\n",
    "while x % 2 == 0:\n",
    "    factors.append(2)\n",
    "    x = x / 2\n",
    "\n",
    "for i in range(3,int(x),2):\n",
    "    while x % i== 0:\n",
    "        factors.append(i)\n",
    "        x = x / i\n",
    "if x > 2:\n",
    "    factors.append(x)\n",
    "    \n",
    "print(factors)"
   ]
  },
  {
   "cell_type": "code",
   "execution_count": 20,
   "id": "95d4efb3-1db5-41e8-b803-79bc85a266aa",
   "metadata": {},
   "outputs": [],
   "source": [
    "a, A = '2', '22'"
   ]
  },
  {
   "cell_type": "code",
   "execution_count": 4,
   "id": "9a48f8c6-1d96-47bd-8deb-b2743be577b5",
   "metadata": {},
   "outputs": [
    {
     "name": "stdout",
     "output_type": "stream",
     "text": [
      "ilv ni\n"
     ]
    }
   ],
   "source": [
    "string = 'i love india'\n",
    "print(string[::2])"
   ]
  },
  {
   "cell_type": "code",
   "execution_count": null,
   "id": "5c5774cf-b190-45d7-8b62-b79a868f3710",
   "metadata": {},
   "outputs": [],
   "source": []
  }
 ],
 "metadata": {
  "kernelspec": {
   "display_name": "Python 3",
   "language": "python",
   "name": "python3"
  },
  "language_info": {
   "codemirror_mode": {
    "name": "ipython",
    "version": 3
   },
   "file_extension": ".py",
   "mimetype": "text/x-python",
   "name": "python",
   "nbconvert_exporter": "python",
   "pygments_lexer": "ipython3",
   "version": "3.9.6"
  }
 },
 "nbformat": 4,
 "nbformat_minor": 5
}
