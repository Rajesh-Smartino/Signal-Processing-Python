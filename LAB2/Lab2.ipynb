{
 "cells": [
  {
   "cell_type": "code",
   "execution_count": 183,
   "id": "c3a67680-80c7-455f-9ddd-a9391a5cd810",
   "metadata": {},
   "outputs": [
    {
     "name": "stdout",
     "output_type": "stream",
     "text": [
      "['P', 'P', 'P', 'P', 'P', 'M']\n",
      "['who', 'was', 'usually', 'very', 'late', '4']\n",
      "['who']\n"
     ]
    }
   ],
   "source": [
    "ops = ['P who', 'P was', 'P usually', 'P very', 'P late', 'M 4']\n",
    "operations = []\n",
    "string = []\n",
    "\n",
    "stack = []\n",
    "\n",
    "for i in range(len(ops)):\n",
    "    elem = ops[i]\n",
    "    operations.append(elem[0])\n",
    "    string.append(elem[2:])\n",
    "    \n",
    "print(operations)\n",
    "print(string)\n",
    "\n",
    "for i in range(len(operations)):\n",
    "    if operations[i] == 'P':\n",
    "        stack.append(string[i])\n",
    "    elif operations[i] == 'O':\n",
    "        stack.pop()\n",
    "    elif operations[i] == 'M':\n",
    "        for i in range(int(string[i])):\n",
    "            stack.pop()\n",
    "\n",
    "print(stack)"
   ]
  },
  {
   "cell_type": "code",
   "execution_count": null,
   "id": "116d7f84-9b9d-4e41-bc9b-06c75e42b51c",
   "metadata": {},
   "outputs": [],
   "source": []
  },
  {
   "cell_type": "markdown",
   "id": "c0bd06a8-aeaf-46a1-8806-718141d384f5",
   "metadata": {},
   "source": [
    "0 0 1      0 18 5 \n",
    "0 3 0      0 0  0\n",
    "0 1 0      5 0  0"
   ]
  },
  {
   "cell_type": "code",
   "execution_count": 187,
   "id": "2f4542db-2fc4-4379-99ac-31dd2e4e65cd",
   "metadata": {},
   "outputs": [
    {
     "ename": "SyntaxError",
     "evalue": "'return' outside function (<ipython-input-187-4617c753b714>, line 33)",
     "output_type": "error",
     "traceback": [
      "\u001b[0;36m  File \u001b[0;32m\"<ipython-input-187-4617c753b714>\"\u001b[0;36m, line \u001b[0;32m33\u001b[0m\n\u001b[0;31m    return ans\u001b[0m\n\u001b[0m    ^\u001b[0m\n\u001b[0;31mSyntaxError\u001b[0m\u001b[0;31m:\u001b[0m 'return' outside function\n"
     ]
    }
   ],
   "source": [
    "sm_a = [3, 3, 3, 0, 2, 1, 1, 1, 3, 1, 2, 1]\n",
    "sm_b = [3, 3, 2, 0, 2, 18, 2, 0, 5]\n",
    "ops = 'C 6'\n",
    "\n",
    "sliced_a = sm_a[3:]\n",
    "\n",
    "n = 3\n",
    "index = 0\n",
    "matrixA = {}\n",
    "for i in range(int(len(sliced_a)/n)):\n",
    "    x = index\n",
    "    y = x + 1\n",
    "    val = y + 1\n",
    "    matrixA[(sliced_a[x], sliced_a[y])] = sliced_a[val]\n",
    "    index += n\n",
    "\n",
    "index = 0\n",
    "matrixB = {}\n",
    "for i in range(int(len(sliced_b)/n)):\n",
    "    x = index\n",
    "    y = x + 1\n",
    "    val = y + 1\n",
    "    matrixB[(sliced_b[x], sliced_b[y])] = sliced_b[val]\n",
    "    index += n\n",
    "\n",
    "sumAB = {}\n",
    "diffAB = {}\n",
    "revdiffAB = {}\n",
    "scamulAB = {}\n",
    "\n",
    "if ops == 'A':\n",
    "    ans = matrix_addition(matrixA, matrixB)\n",
    "    return ans\n",
    "        \n",
    "elif ops == 'S':\n",
    "    ans = matrix_subtract(matrixA, matrixB)\n",
    "    return ans\n",
    "\n",
    "elif ops == 'R':\n",
    "    ans = matrix_revdiff(matrixA, matrixB)\n",
    "    return ans\n",
    "\n",
    "else:\n",
    "    ops = ops.split(\" \")\n",
    "    k = ops[-1]\n",
    "    ans = const_mult(matrixA, k)\n",
    "    return ans\n",
    "    "
   ]
  },
  {
   "cell_type": "code",
   "execution_count": 150,
   "id": "3621b86b-7e48-436a-9f6b-3b630c976623",
   "metadata": {},
   "outputs": [],
   "source": [
    "def matrix_addition(matrixA, matrixB):\n",
    "    for key in list(matrixA) + list(matrixB):\n",
    "        if key in matrixA and key in matrixB:\n",
    "            s = matrixA[key] + matrixB[key]\n",
    "        elif key in matrixA:\n",
    "            s = matrixA[key]\n",
    "        else:\n",
    "            s = matrixB[key]\n",
    "\n",
    "        sumAB[key] = s\n",
    "\n",
    "    return dict_2_list(sumAB)"
   ]
  },
  {
   "cell_type": "code",
   "execution_count": 154,
   "id": "38fe5690-8bbc-44c6-a314-9b54ac554b24",
   "metadata": {},
   "outputs": [],
   "source": [
    "def dict_2_list(x):\n",
    "    sorted_keys = sorted(list(x))\n",
    "    out = []\n",
    "    for key in sorted_keys:\n",
    "        out.append(key[0])\n",
    "        out.append(key[1])\n",
    "        out.append(x[key])\n",
    "    return out"
   ]
  },
  {
   "cell_type": "code",
   "execution_count": 153,
   "id": "d5f74a4d-bedc-40b4-99c0-6aa54c21ad05",
   "metadata": {},
   "outputs": [],
   "source": [
    "def matrix_subtract(matrixA, matrixB):\n",
    "    for key in list(matrixA) + list(matrixB):\n",
    "        if key in matrixA and key in matrixB:\n",
    "            s = matrixA[key] - matrixB[key]\n",
    "        elif key in matrixA:\n",
    "            s = matrixA[key]\n",
    "        else:\n",
    "            s = matrixB[key]\n",
    "\n",
    "        diffAB[key] = s\n",
    "\n",
    "    return dict_2_list(diffAB)"
   ]
  },
  {
   "cell_type": "code",
   "execution_count": 159,
   "id": "8c08d521-5566-4a76-9e23-94c72b6294f6",
   "metadata": {},
   "outputs": [],
   "source": [
    "def matrix_revdiff(matrixA, matrixB):\n",
    "    for key in list(matrixA) + list(matrixB):\n",
    "        if key in matrixA and key in matrixB:\n",
    "            s = matrixB[key] - matrixA[key]\n",
    "        elif key in matrixA:\n",
    "            s = matrixA[key]\n",
    "        else:\n",
    "            s = matrixB[key]\n",
    "\n",
    "        revdiffAB[key] = s\n",
    "\n",
    "    return dict_2_list(revdiffAB)"
   ]
  },
  {
   "cell_type": "code",
   "execution_count": 185,
   "id": "163f42c9-53cf-4693-8db5-14a9bdcd117d",
   "metadata": {},
   "outputs": [],
   "source": [
    "def const_mult(matrixA, k):\n",
    "    for key in list(matrixA):\n",
    "        s = matrixA[key]*int(k)\n",
    "        scamulAB[key] = s\n",
    "    return dict_2_list(scamulAB)"
   ]
  },
  {
   "cell_type": "markdown",
   "id": "a60d0e2a-3668-43a5-911e-a8fbd69052ee",
   "metadata": {},
   "source": [
    "\n",
    "12 3 3 3 0 1 2 1 1 5 1 2 4 12 3 3 3 0 1 3 1 1 2 2 1 4 2 C 7 S"
   ]
  },
  {
   "cell_type": "code",
   "execution_count": null,
   "id": "cf0570f9-cebb-48fd-84de-39c8d8ac6d30",
   "metadata": {},
   "outputs": [],
   "source": []
  },
  {
   "cell_type": "code",
   "execution_count": 196,
   "id": "5fc4cfb2-bfd1-4963-91b0-ca5b232c451d",
   "metadata": {},
   "outputs": [],
   "source": [
    "#!/bin/python3\n",
    "\n",
    "import math\n",
    "import os\n",
    "import random\n",
    "import re\n",
    "import sys\n",
    "\n",
    "\n",
    "#\n",
    "# Complete the 'sparseMatOps' function below.\n",
    "#\n",
    "# The function is expected to return an INTEGER_ARRAY.\n",
    "# The function accepts following parameters:\n",
    "#  1. INTEGER_ARRAY sm_a\n",
    "#  2. INTEGER_ARRAY sm_b\n",
    "#  3. STRING_ARRAY ops\n",
    "#\n",
    "def dict_2_list(x):\n",
    "    sorted_keys = sorted(list(x))\n",
    "    out = []\n",
    "    for key in sorted_keys:\n",
    "        out.append(key[0])\n",
    "        out.append(key[1])\n",
    "        out.append(x[key])\n",
    "    return out\n",
    "\n",
    "def matrix_addition(matrixA, matrixB):\n",
    "    sumAB = {}\n",
    "    for key in list(matrixA) + list(matrixB):\n",
    "        if key in matrixA and key in matrixB:\n",
    "            s = matrixA[key] + matrixB[key]\n",
    "        elif key in matrixA:\n",
    "            s = matrixA[key]\n",
    "        else:\n",
    "            s = matrixB[key]\n",
    "\n",
    "        sumAB[key] = s\n",
    "\n",
    "    return dict_2_list(sumAB)\n",
    "\n",
    "def matrix_subtract(matrixA, matrixB):\n",
    "    diffAB = {}\n",
    "    for key in list(matrixA) + list(matrixB):\n",
    "        if key in matrixA and key in matrixB:\n",
    "            s = matrixA[key] - matrixB[key]\n",
    "        elif key in matrixA:\n",
    "            s = matrixA[key]\n",
    "        else:\n",
    "            s = matrixB[key]\n",
    "\n",
    "        diffAB[key] = s\n",
    "\n",
    "    return dict_2_list(diffAB)\n",
    "\n",
    "def matrix_revdiff(matrixA, matrixB):\n",
    "    revdiffAB = {}\n",
    "    for key in list(matrixA) + list(matrixB):\n",
    "        if key in matrixA and key in matrixB:\n",
    "            s = matrixB[key] - matrixA[key]\n",
    "        elif key in matrixA:\n",
    "            s = matrixA[key]\n",
    "        else:\n",
    "            s = matrixB[key]\n",
    "\n",
    "        revdiffAB[key] = s\n",
    "\n",
    "    return dict_2_list(revdiffAB)\n",
    "\n",
    "def const_mult(matrixA, k):\n",
    "    scamulAB = {}\n",
    "    for key in list(matrixA):\n",
    "        s = matrixA[key]*int(k)\n",
    "        scamulAB[key] = s\n",
    "    return dict_2_list(scamulAB)\n",
    "   \n",
    "def sparseMatOps(sm_a, sm_b, ops):\n",
    "    sliced_a = sm_a[3:]\n",
    "    sliced_b = sm_b[3:]\n",
    "\n",
    "    n = 3\n",
    "    index = 0\n",
    "    matrixA = {}\n",
    "    for i in range(int(len(sliced_a)/n)):\n",
    "        x = index\n",
    "        y = x + 1\n",
    "        val = y + 1\n",
    "        matrixA[(sliced_a[x], sliced_a[y])] = sliced_a[val]\n",
    "        index += n\n",
    "\n",
    "    index = 0\n",
    "    matrixB = {}\n",
    "    for i in range(int(len(sliced_b)/n)):\n",
    "        x = index\n",
    "        y = x + 1\n",
    "        val = y + 1\n",
    "        matrixB[(sliced_b[x], sliced_b[y])] = sliced_b[val]\n",
    "        index += n\n",
    "    \n",
    "    overallans = []\n",
    "    for i in range(len(ops)):\n",
    "        ops = ops[i]\n",
    "        if ops == 'A':\n",
    "            ans = matrix_addition(matrixA, matrixB)\n",
    "                \n",
    "        elif ops == 'S':\n",
    "            ans = matrix_subtract(matrixA, matrixB)\n",
    "\n",
    "        elif ops == 'R':\n",
    "            ans = matrix_revdiff(matrixA, matrixB)\n",
    "            \n",
    "        else:\n",
    "            ops = ops.split(\" \")\n",
    "            k = ops[-1]\n",
    "            ans = const_mult(matrixA, k)\n",
    "            \n",
    "        if i == 0:\n",
    "            temp = len(ans)\n",
    "            ans.insert(0, sm_a[0])\n",
    "            ans.insert(1, sm_a[1])\n",
    "            ans.insert(2, int(temp/3))\n",
    "        overallans += ans\n",
    "        \n",
    "    return overallans"
   ]
  },
  {
   "cell_type": "code",
   "execution_count": 214,
   "id": "0d4e4967-fb26-4443-bb5d-c92be39f1f5b",
   "metadata": {},
   "outputs": [
    {
     "ename": "IndexError",
     "evalue": "list index out of range",
     "output_type": "error",
     "traceback": [
      "\u001b[0;31m---------------------------------------------------------------------------\u001b[0m",
      "\u001b[0;31mIndexError\u001b[0m                                Traceback (most recent call last)",
      "\u001b[0;32m<ipython-input-214-e5751a8e327d>\u001b[0m in \u001b[0;36m<module>\u001b[0;34m\u001b[0m\n\u001b[1;32m      2\u001b[0m \u001b[0msm_b\u001b[0m \u001b[0;34m=\u001b[0m \u001b[0;34m[\u001b[0m\u001b[0;36m3\u001b[0m\u001b[0;34m,\u001b[0m \u001b[0;36m3\u001b[0m\u001b[0;34m,\u001b[0m \u001b[0;36m3\u001b[0m\u001b[0;34m,\u001b[0m \u001b[0;36m0\u001b[0m\u001b[0;34m,\u001b[0m \u001b[0;36m1\u001b[0m\u001b[0;34m,\u001b[0m \u001b[0;36m3\u001b[0m\u001b[0;34m,\u001b[0m \u001b[0;36m1\u001b[0m\u001b[0;34m,\u001b[0m \u001b[0;36m1\u001b[0m\u001b[0;34m,\u001b[0m \u001b[0;36m1\u001b[0m\u001b[0;34m,\u001b[0m \u001b[0;36m2\u001b[0m\u001b[0;34m,\u001b[0m \u001b[0;36m2\u001b[0m\u001b[0;34m,\u001b[0m \u001b[0;36m1\u001b[0m\u001b[0;34m,\u001b[0m \u001b[0;36m4\u001b[0m\u001b[0;34m,\u001b[0m \u001b[0;36m2\u001b[0m\u001b[0;34m]\u001b[0m\u001b[0;34m\u001b[0m\u001b[0;34m\u001b[0m\u001b[0m\n\u001b[1;32m      3\u001b[0m \u001b[0mops\u001b[0m \u001b[0;34m=\u001b[0m \u001b[0;34m[\u001b[0m\u001b[0;34m'C 7'\u001b[0m\u001b[0;34m,\u001b[0m\u001b[0;34m'S'\u001b[0m\u001b[0;34m]\u001b[0m\u001b[0;34m\u001b[0m\u001b[0;34m\u001b[0m\u001b[0m\n\u001b[0;32m----> 4\u001b[0;31m \u001b[0msparseMatOps\u001b[0m\u001b[0;34m(\u001b[0m\u001b[0msm_a\u001b[0m\u001b[0;34m,\u001b[0m \u001b[0msm_b\u001b[0m\u001b[0;34m,\u001b[0m \u001b[0mops\u001b[0m\u001b[0;34m)\u001b[0m\u001b[0;34m\u001b[0m\u001b[0;34m\u001b[0m\u001b[0m\n\u001b[0m",
      "\u001b[0;32m<ipython-input-213-6488f57aa806>\u001b[0m in \u001b[0;36msparseMatOps\u001b[0;34m(sm_a, sm_b, ops)\u001b[0m\n\u001b[1;32m      3\u001b[0m     \u001b[0msliced_b\u001b[0m \u001b[0;34m=\u001b[0m \u001b[0msm_b\u001b[0m\u001b[0;34m[\u001b[0m\u001b[0;36m3\u001b[0m\u001b[0;34m:\u001b[0m\u001b[0;34m]\u001b[0m\u001b[0;34m\u001b[0m\u001b[0;34m\u001b[0m\u001b[0m\n\u001b[1;32m      4\u001b[0m \u001b[0;34m\u001b[0m\u001b[0m\n\u001b[0;32m----> 5\u001b[0;31m     \u001b[0mmatrixA\u001b[0m \u001b[0;34m=\u001b[0m \u001b[0mlist_to_dict\u001b[0m\u001b[0;34m(\u001b[0m\u001b[0msliced_a\u001b[0m\u001b[0;34m)\u001b[0m\u001b[0;34m\u001b[0m\u001b[0;34m\u001b[0m\u001b[0m\n\u001b[0m\u001b[1;32m      6\u001b[0m     \u001b[0mmatrixB\u001b[0m \u001b[0;34m=\u001b[0m \u001b[0mlist_to_dict\u001b[0m\u001b[0;34m(\u001b[0m\u001b[0msliced_b\u001b[0m\u001b[0;34m)\u001b[0m\u001b[0;34m\u001b[0m\u001b[0;34m\u001b[0m\u001b[0m\n\u001b[1;32m      7\u001b[0m \u001b[0;34m\u001b[0m\u001b[0m\n",
      "\u001b[0;32m<ipython-input-212-120e5f6c535c>\u001b[0m in \u001b[0;36mlist_to_dict\u001b[0;34m(lst)\u001b[0m\n\u001b[1;32m     21\u001b[0m         \u001b[0my\u001b[0m \u001b[0;34m=\u001b[0m \u001b[0mx\u001b[0m \u001b[0;34m+\u001b[0m \u001b[0;36m1\u001b[0m\u001b[0;34m\u001b[0m\u001b[0;34m\u001b[0m\u001b[0m\n\u001b[1;32m     22\u001b[0m         \u001b[0mval\u001b[0m \u001b[0;34m=\u001b[0m \u001b[0my\u001b[0m \u001b[0;34m+\u001b[0m \u001b[0;36m1\u001b[0m\u001b[0;34m\u001b[0m\u001b[0;34m\u001b[0m\u001b[0m\n\u001b[0;32m---> 23\u001b[0;31m         \u001b[0mmatrix\u001b[0m\u001b[0;34m[\u001b[0m\u001b[0;34m(\u001b[0m\u001b[0mlst\u001b[0m\u001b[0;34m[\u001b[0m\u001b[0mx\u001b[0m\u001b[0;34m]\u001b[0m\u001b[0;34m,\u001b[0m \u001b[0mlst\u001b[0m\u001b[0;34m[\u001b[0m\u001b[0my\u001b[0m\u001b[0;34m]\u001b[0m\u001b[0;34m)\u001b[0m\u001b[0;34m]\u001b[0m \u001b[0;34m=\u001b[0m \u001b[0msliced_b\u001b[0m\u001b[0;34m[\u001b[0m\u001b[0mval\u001b[0m\u001b[0;34m]\u001b[0m\u001b[0;34m\u001b[0m\u001b[0;34m\u001b[0m\u001b[0m\n\u001b[0m\u001b[1;32m     24\u001b[0m         \u001b[0mindex\u001b[0m \u001b[0;34m+=\u001b[0m \u001b[0mn\u001b[0m\u001b[0;34m\u001b[0m\u001b[0;34m\u001b[0m\u001b[0m\n\u001b[1;32m     25\u001b[0m     \u001b[0;32mreturn\u001b[0m \u001b[0mmatrix\u001b[0m\u001b[0;34m\u001b[0m\u001b[0;34m\u001b[0m\u001b[0m\n",
      "\u001b[0;31mIndexError\u001b[0m: list index out of range"
     ]
    }
   ],
   "source": [
    "sm_a = [3, 3, 3, 0, 1, 2, 1, 1, 5, 1, 2, 4]\n",
    "sm_b = [3, 3, 3, 0, 1, 3, 1, 1, 1, 2, 2, 1, 4, 2]\n",
    "ops = ['C 7','S']\n",
    "sparseMatOps(sm_a, sm_b, ops)"
   ]
  },
  {
   "cell_type": "code",
   "execution_count": null,
   "id": "7f1bbe71-a4ad-47c0-b576-6bef3be5b4e0",
   "metadata": {},
   "outputs": [],
   "source": []
  },
  {
   "cell_type": "markdown",
   "id": "9321e4e3-e77b-4535-998b-2615dd402bb5",
   "metadata": {},
   "source": [
    "3\n",
    "3\n",
    "4\n",
    "0\n",
    "1\n",
    "11\n",
    "1\n",
    "1\n",
    "33\n",
    "1\n",
    "2\n",
    "28\n",
    "2\n",
    "1\n",
    "-4"
   ]
  },
  {
   "cell_type": "code",
   "execution_count": null,
   "id": "f22be45c-16d0-49d1-b2dc-1c957433db16",
   "metadata": {},
   "outputs": [],
   "source": []
  },
  {
   "cell_type": "code",
   "execution_count": 230,
   "id": "9d39ea88-9a2f-4ffd-bc87-8d63aac5a85c",
   "metadata": {},
   "outputs": [],
   "source": [
    "def matrix_operation(matrixA, matrixB, operation):\n",
    "    for key in matrixB.keys():\n",
    "        if key in matrixA:\n",
    "            if operation == 'A': matrixA[key] = matrixA[key] + matrixB[key]\n",
    "            elif operation == 'S': matrixA[key] = matrixA[key] - matrixB[key]\n",
    "            elif operation == 'R': matrixA[key] = matrixB[key] - matrixA[key]\n",
    "        else:\n",
    "            if operation == 'S':\n",
    "                matrixA[key] = - matrixB[key]\n",
    "            else:\n",
    "                matrixA[key] = matrixB[key]\n",
    "                \n",
    "    return matrixA\n",
    "\n",
    "def scalar_multiplication(matrix, k):\n",
    "    for key in matrix:\n",
    "        matrix[key] = matrix[key] * k\n",
    "    return matrix\n",
    "\n",
    "def list_to_dict(lst):\n",
    "    index = 0\n",
    "    matrix = {}\n",
    "    for i in range(int(len(lst)/n)):\n",
    "        x = index\n",
    "        y = x + 1\n",
    "        val = y + 1\n",
    "        matrix[(lst[x], lst[y])] = lst[val]\n",
    "        index += n\n",
    "    return matrix\n",
    "\n",
    "def dict_to_list(x):\n",
    "    sorted_keys = sorted(list(x))\n",
    "    out = []\n",
    "    for key in sorted_keys:\n",
    "        out.append(key[0])\n",
    "        out.append(key[1])\n",
    "        out.append(x[key])\n",
    "    return out"
   ]
  },
  {
   "cell_type": "code",
   "execution_count": 231,
   "id": "cdc051a3-dafb-4d4a-9f07-f79811e71670",
   "metadata": {},
   "outputs": [
    {
     "data": {
      "text/plain": [
       "['A', 'S', 'R', 'C 7']"
      ]
     },
     "execution_count": 231,
     "metadata": {},
     "output_type": "execute_result"
    }
   ],
   "source": [
    "['A', 'S', 'R', 'C 7']"
   ]
  },
  {
   "cell_type": "code",
   "execution_count": 234,
   "id": "a51ccbac-f054-40f6-8861-07cef6a10f8e",
   "metadata": {},
   "outputs": [],
   "source": [
    "def sparseMatOps(sm_a, sm_b, ops):\n",
    "    sliced_a = sm_a[3:]\n",
    "    sliced_b = sm_b[3:]\n",
    "    \n",
    "    matrixA = list_to_dict(sliced_a)\n",
    "    matrixB = list_to_dict(sliced_b)\n",
    "    \n",
    "    for operation in ops:\n",
    "        if operation[0] == 'C':\n",
    "            k = int(operation.split()[-1])\n",
    "            matrixA = scalar_multiplication(matrixA, k)\n",
    "        else:\n",
    "            matrixA = matrix_operation(matrixA, matrixB, operation)\n",
    "            \n",
    "    matrix_list = dict_to_list(matrixA)\n",
    "    matrix_list.insert(0, sm_a[0])\n",
    "    matrix_list.insert(1, sm_a[1])\n",
    "    matrix_list.insert(2, int((len(matrix_list) - 2)/sm_a[0]))\n",
    "    return matrix_list"
   ]
  },
  {
   "cell_type": "code",
   "execution_count": 233,
   "id": "9658272f-3494-4bf3-b9c4-4970ffe097d1",
   "metadata": {},
   "outputs": [
    {
     "name": "stdout",
     "output_type": "stream",
     "text": [
      "[3, 3, 4, 0, 1, 11, 1, 1, 33, 1, 2, 28, 2, 1, -4]\n"
     ]
    },
    {
     "data": {
      "text/plain": [
       "[3, 3, 4, 0, 1, 11, 1, 1, 33, 1, 2, 28, 2, 1, -4]"
      ]
     },
     "execution_count": 233,
     "metadata": {},
     "output_type": "execute_result"
    }
   ],
   "source": [
    "sm_a = [3, 3, 3, 0, 1, 2, 1, 1, 5, 1, 2, 4]\n",
    "sm_b = [3, 3, 3, 0, 1, 3, 1, 1, 2, 2, 1, 4]\n",
    "ops = ['C 7','S']\n",
    "\n",
    "sparseMatOps(sm_a, sm_b, ops)"
   ]
  },
  {
   "cell_type": "markdown",
   "id": "ec518dcf-b693-4636-974d-559113cd8613",
   "metadata": {},
   "source": [
    "3\n",
    "3\n",
    "4\n",
    "0\n",
    "1\n",
    "11\n",
    "1\n",
    "1\n",
    "33\n",
    "1\n",
    "2\n",
    "28\n",
    "2\n",
    "1\n",
    "-4"
   ]
  },
  {
   "cell_type": "code",
   "execution_count": null,
   "id": "b2f88830-8974-4b20-828c-69dda5bc4d9a",
   "metadata": {},
   "outputs": [],
   "source": []
  },
  {
   "cell_type": "code",
   "execution_count": 2,
   "id": "ceb38ce1-d2c2-48ca-9169-24012bf9aad1",
   "metadata": {},
   "outputs": [
    {
     "name": "stdout",
     "output_type": "stream",
     "text": [
      "\n"
     ]
    },
    {
     "ename": "NameError",
     "evalue": "name 'fun2' is not defined",
     "output_type": "error",
     "traceback": [
      "\u001b[0;31m---------------------------------------------------------------------------\u001b[0m",
      "\u001b[0;31mNameError\u001b[0m                                 Traceback (most recent call last)",
      "\u001b[0;32m<ipython-input-2-9c71cc0ea1a9>\u001b[0m in \u001b[0;36m<module>\u001b[0;34m\u001b[0m\n\u001b[1;32m      5\u001b[0m \u001b[0;34m\u001b[0m\u001b[0m\n\u001b[1;32m      6\u001b[0m \u001b[0mfun1\u001b[0m\u001b[0;34m(\u001b[0m\u001b[0;34m)\u001b[0m\u001b[0;34m\u001b[0m\u001b[0;34m\u001b[0m\u001b[0m\n\u001b[0;32m----> 7\u001b[0;31m \u001b[0mfun2\u001b[0m\u001b[0;34m(\u001b[0m\u001b[0;34m)\u001b[0m\u001b[0;34m\u001b[0m\u001b[0;34m\u001b[0m\u001b[0m\n\u001b[0m",
      "\u001b[0;31mNameError\u001b[0m: name 'fun2' is not defined"
     ]
    }
   ],
   "source": [
    "def fun1():\n",
    "    print()\n",
    "    def fun2():\n",
    "        print(\"inner\")\n",
    "\n",
    "fun1()\n",
    "fun2()"
   ]
  },
  {
   "cell_type": "code",
   "execution_count": 3,
   "id": "78dd1ea5-9413-4979-a484-aa4abca5c201",
   "metadata": {},
   "outputs": [
    {
     "name": "stdout",
     "output_type": "stream",
     "text": [
      "10\n",
      "5\n"
     ]
    }
   ],
   "source": [
    "def f(fx):\n",
    "    fx = 10\n",
    "    print(fx)\n",
    "\n",
    "x = 5\n",
    "f(x)\n",
    "print(x)"
   ]
  },
  {
   "cell_type": "code",
   "execution_count": 13,
   "id": "ba923c3b-91ea-4f81-a284-20829b5434a3",
   "metadata": {},
   "outputs": [
    {
     "name": "stdout",
     "output_type": "stream",
     "text": [
      "10\n",
      "<class 'int'>\n",
      "[5, 0, 8]\n"
     ]
    },
    {
     "data": {
      "text/plain": [
       "list"
      ]
     },
     "execution_count": 13,
     "metadata": {},
     "output_type": "execute_result"
    }
   ],
   "source": [
    "def f(fx):\n",
    "    fx = 10\n",
    "    print(fx)\n",
    "    print(type(fx))\n",
    "\n",
    "x = [5,0,8]\n",
    "f(x[0])\n",
    "print(x)\n",
    "type(x)"
   ]
  },
  {
   "cell_type": "code",
   "execution_count": null,
   "id": "27a564af-b837-4f30-bbb1-1356debaecaf",
   "metadata": {},
   "outputs": [],
   "source": []
  }
 ],
 "metadata": {
  "kernelspec": {
   "display_name": "Python 3",
   "language": "python",
   "name": "python3"
  },
  "language_info": {
   "codemirror_mode": {
    "name": "ipython",
    "version": 3
   },
   "file_extension": ".py",
   "mimetype": "text/x-python",
   "name": "python",
   "nbconvert_exporter": "python",
   "pygments_lexer": "ipython3",
   "version": "3.9.6"
  }
 },
 "nbformat": 4,
 "nbformat_minor": 5
}
