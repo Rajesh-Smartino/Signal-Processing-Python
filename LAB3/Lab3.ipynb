{
 "cells": [
  {
   "cell_type": "code",
   "execution_count": 61,
   "id": "72640367-1fc0-4fec-b927-39613aae2576",
   "metadata": {},
   "outputs": [
    {
     "name": "stdin",
     "output_type": "stream",
     "text": [
      " 1\n"
     ]
    },
    {
     "name": "stdout",
     "output_type": "stream",
     "text": [
      "1 \n"
     ]
    }
   ],
   "source": [
    "def factorial(x):\n",
    "    fact = 1\n",
    "    for i in range(1,x+1):\n",
    "        fact = (i*fact)\n",
    "    return fact\n",
    "\n",
    "def calcbinomialcoeff(n, k):\n",
    "    return factorial(n)/(factorial(k)*factorial(n-k))\n",
    "    \n",
    "\n",
    "def pascaltriangle(n):\n",
    "    k = n\n",
    "    while(k):\n",
    "        for i in range(0,n+1):\n",
    "            if i>k-n:\n",
    "                coef = int(calcbinomialcoeff(n-k,i))\n",
    "                if coef:\n",
    "                    print(coef, end=' ')\n",
    "        print('')\n",
    "        k -= 1\n",
    "\n",
    "x = int(input())\n",
    "pascaltriangle(x)\n"
   ]
  },
  {
   "cell_type": "code",
   "execution_count": 70,
   "id": "2996ecde-c51e-4a29-8a6b-45cba3df245b",
   "metadata": {},
   "outputs": [
    {
     "name": "stdin",
     "output_type": "stream",
     "text": [
      " 10\n",
      " 10\n",
      " 10\n",
      " 10\n",
      " 10\n",
      " \n"
     ]
    },
    {
     "name": "stdout",
     "output_type": "stream",
     "text": [
      "Breaking loop\n",
      "Sum of entered values is :\n",
      "50\n"
     ]
    }
   ],
   "source": [
    "def getinput():\n",
    "    x = input()\n",
    "    if x.isnumeric():\n",
    "        val.append(int(x))\n",
    "        getinput()\n",
    "    elif x == '':\n",
    "        print(\"Breaking loop\")\n",
    "        print(\"Sum of entered values is :\")\n",
    "        print(sum(val))\n",
    "    else:\n",
    "        print(\"Please enter integer or decimal\")\n",
    "        print(\"To break enter empty line\")\n",
    "        getinput()\n",
    "val = []\n",
    "getinput()"
   ]
  },
  {
   "cell_type": "code",
   "execution_count": null,
   "id": "593cc39c-eefe-453a-bc71-68b4f69e2b1c",
   "metadata": {},
   "outputs": [],
   "source": []
  },
  {
   "cell_type": "code",
   "execution_count": 114,
   "id": "0cb2b391-6152-4810-b176-c5bbf9f6a318",
   "metadata": {},
   "outputs": [
    {
     "name": "stdout",
     "output_type": "stream",
     "text": [
      "9\n",
      "7\n"
     ]
    }
   ],
   "source": [
    "\n",
    "inputStr = \"Hello! world\"\n",
    "inputStr = list(inputStr)\n",
    "inputStr = set(inputStr)\n",
    "inputStr = list(inputStr)\n",
    "    \n",
    "\n",
    "n = len(inputStr) \n",
    "print(n)\n",
    "i = 0\n",
    "while(n):\n",
    "    if inputStr[i].isalnum() == False:\n",
    "        n -= 1\n",
    "        del inputStr[i]\n",
    "        i -= 1\n",
    "    i += 1\n",
    "    if i==n:\n",
    "        break\n",
    "print(len(inputStr))"
   ]
  },
  {
   "cell_type": "code",
   "execution_count": null,
   "id": "56ab4a12-d80f-4486-afbb-d1c09fa3355c",
   "metadata": {},
   "outputs": [],
   "source": []
  },
  {
   "cell_type": "code",
   "execution_count": 119,
   "id": "53dbfde0-e4a0-4b9f-bdf9-bd5686e737c4",
   "metadata": {},
   "outputs": [],
   "source": [
    "single_digits = [\"zero\", \"one\", \"two\", \"three\",\n",
    "                     \"four\", \"five\", \"six\", \"seven\",\n",
    "                     \"eight\", \"nine\"]\n",
    " \n",
    "two_digits = [\"\", \"ten\", \"eleven\", \"twelve\",\n",
    "                  \"thirteen\", \"fourteen\", \"fifteen\",\n",
    "                  \"sixteen\", \"seventeen\", \"eighteen\",\n",
    "                  \"nineteen\"]\n",
    " \n",
    "tens_multiple = [\"\", \"\", \"twenty\", \"thirty\", \"forty\",\n",
    "                     \"fifty\", \"sixty\", \"seventy\", \"eighty\",\n",
    "                     \"ninety\"]\n",
    " \n",
    "tens_power = [\"hundred\", \"thousand\"]"
   ]
  },
  {
   "cell_type": "code",
   "execution_count": 152,
   "id": "59e17ae7-0d02-40b8-bffc-5366d4375303",
   "metadata": {},
   "outputs": [],
   "source": [
    "onesdict = {'0':'zero', '1':'one', '2':'two', '3':'three', '4':'four', '5':'five', \n",
    "            '6':'six', '7':'seven', '8':'eight', '9':'nine'}\n",
    "\n",
    "tensdict = {'10':'ten', '11':'eleven', '12':'twelve', '13':'thirteen', '14':'fourteen', \n",
    "            '15':'fifteen', '16':'sixteen', '17':'seventeen', '18':'eighteen', '19':'nineteen'}\n",
    "\n",
    "hundredsdict = {'2':'twenty', '3':'thirty', '4':'forty', \n",
    "            '5':'fifty', '6':'sixty', '7':'seventy', '8':'eighty', '9':'ninety'}"
   ]
  },
  {
   "cell_type": "code",
   "execution_count": null,
   "id": "5d76cdb8-25f2-43ae-9c00-885955ec0a2a",
   "metadata": {},
   "outputs": [],
   "source": []
  },
  {
   "cell_type": "code",
   "execution_count": 167,
   "id": "e0ae6f00-58a6-42bc-9ae6-c84edd2aeb3f",
   "metadata": {},
   "outputs": [
    {
     "name": "stdout",
     "output_type": "stream",
     "text": [
      "['1', '0', '2', '0']\n",
      "one thousand twenty\n"
     ]
    }
   ],
   "source": [
    "n = 1020\n",
    "nlist = list(str(n))\n",
    "print(nlist)\n",
    "k = len(nlist)\n",
    "t = len(nlist)\n",
    "\n",
    "result = ''\n",
    "\n",
    "if k == 4:\n",
    "    if nlist[t-k] != '0':\n",
    "        #print(onesdict[nlist[t-k]] + \" thousand \")\n",
    "        result = result + onesdict[nlist[t-k]] + \" thousand \"\n",
    "    k -= 1\n",
    "\n",
    "if k == 3:\n",
    "    if nlist[t-k] != '0':\n",
    "        #print(onesdict[nlist[t-k]] + \" hundred \")\n",
    "        result = result + onesdict[nlist[t-k]] + \" hundred \"\n",
    "    k -= 1\n",
    "        \n",
    "if k == 2:\n",
    "    if nlist[t-k] != '0':\n",
    "        if n%100 >9 and n%100<20:\n",
    "            #print(tensdict[str(n%100)])\n",
    "            result = result + tensdict[str(n%100)]\n",
    "        elif  n%100 in [20,30,40,50,60,70,80,90]:\n",
    "            result = result + hundredsdict[nlist[t-k]]\n",
    "        else:\n",
    "            #print(hundredsdict[nlist[t-k]] +\" \"+ onesdict[nlist[t-k+1]])\n",
    "            result = result + hundredsdict[nlist[t-k]] +\" \"+ onesdict[nlist[t-k+1]]\n",
    "    elif nlist[t-k+1] != '0':\n",
    "        #print(onesdict[nlist[t-k+1]])\n",
    "        result = result + onesdict[nlist[t-k+1]]\n",
    "        \n",
    "print(result)\n",
    "        "
   ]
  },
  {
   "cell_type": "code",
   "execution_count": null,
   "id": "53606060-98eb-447c-8165-f7e86d4319c1",
   "metadata": {},
   "outputs": [],
   "source": []
  },
  {
   "cell_type": "code",
   "execution_count": 173,
   "id": "f9a3038c-39b9-40bf-b154-44966a675d03",
   "metadata": {},
   "outputs": [
    {
     "name": "stdin",
     "output_type": "stream",
     "text": [
      "  \n"
     ]
    }
   ],
   "source": [
    "z = input()"
   ]
  },
  {
   "cell_type": "code",
   "execution_count": 174,
   "id": "37063d60-e101-4995-b8e1-262b7a61c130",
   "metadata": {},
   "outputs": [
    {
     "data": {
      "text/plain": [
       "' '"
      ]
     },
     "execution_count": 174,
     "metadata": {},
     "output_type": "execute_result"
    }
   ],
   "source": [
    "z"
   ]
  },
  {
   "cell_type": "code",
   "execution_count": null,
   "id": "f46f8379-fb7c-44d6-bc9a-41cf89fe2041",
   "metadata": {},
   "outputs": [],
   "source": []
  }
 ],
 "metadata": {
  "kernelspec": {
   "display_name": "Python 3",
   "language": "python",
   "name": "python3"
  },
  "language_info": {
   "codemirror_mode": {
    "name": "ipython",
    "version": 3
   },
   "file_extension": ".py",
   "mimetype": "text/x-python",
   "name": "python",
   "nbconvert_exporter": "python",
   "pygments_lexer": "ipython3",
   "version": "3.9.6"
  }
 },
 "nbformat": 4,
 "nbformat_minor": 5
}
