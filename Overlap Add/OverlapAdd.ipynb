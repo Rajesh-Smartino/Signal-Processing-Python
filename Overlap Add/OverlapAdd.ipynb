{
 "cells": [
  {
   "cell_type": "markdown",
   "id": "12746054-c501-484a-9d28-c3fbcf7abad2",
   "metadata": {},
   "source": [
    "# "
   ]
  },
  {
   "cell_type": "code",
   "execution_count": 1,
   "id": "d052741b-58dc-4ae4-a90d-babb0df5431f",
   "metadata": {},
   "outputs": [
    {
     "name": "stdout",
     "output_type": "stream",
     "text": [
      "[0.         0.00082397 0.00082397 ... 0.0032959  0.00247192 0.00082397] 48000\n"
     ]
    }
   ],
   "source": [
    "import soundfile as sf\n",
    "import math\n",
    "from scipy.signal.windows import hann, hamming\n",
    "import numpy as np\n",
    "\n",
    "data, fs = sf.read('/Users/rajeshr/Desktop/music_HDP.wav')\n",
    "print(data, fs)"
   ]
  },
  {
   "cell_type": "code",
   "execution_count": 2,
   "id": "d81fd6ec-fc17-419f-957f-a87a8fbdc66b",
   "metadata": {},
   "outputs": [],
   "source": [
    "''' \n",
    "This functions splits into multiples frames. \n",
    "Inputs are: \n",
    "1. Input signal, fs,\n",
    "2. Window (can use scipy.signal.windows to import hann, hamming or rect) Winsize(nw) is needed nw = 0.03*fs [Typical val], \n",
    "3. Overlap factor (usually 0.5).\n",
    "Returns: frames.\n",
    "'''\n",
    "\n",
    "sym = False\n",
    "window = hamming(math.floor(0.03*fs), sym)\n",
    "\n",
    "def split_frames(signal, window, overlap=0.8):\n",
    "    \n",
    "    n = len(signal) #length of input\n",
    "    nw = len(window) #window size\n",
    "    step = math.floor(nw*(1-overlap)) \n",
    "    \n",
    "    nf = math.floor((n-nw)/step)+1 #number of frames\n",
    "    \n",
    "    frames = np.zeros((nf, nw))\n",
    "    \n",
    "    for i in range(nf):\n",
    "        offset = i*step        \n",
    "        frames[i, :] = window*signal[offset: nw+offset]\n",
    "    \n",
    "    return frames"
   ]
  },
  {
   "cell_type": "code",
   "execution_count": 5,
   "id": "4f9336dc-602d-40d7-b5c2-fab575d78c2f",
   "metadata": {},
   "outputs": [
    {
     "name": "stdout",
     "output_type": "stream",
     "text": [
      "844288 [[ 0.00000000e+00  6.59215768e-05  6.59324010e-05 ...  3.29752205e-04\n",
      "  -1.31864802e-04 -3.29607884e-04]\n",
      " [-1.31835938e-04 -1.31843154e-04 -1.31864802e-04 ... -2.63801764e-04\n",
      "   0.00000000e+00  0.00000000e+00]\n",
      " [ 1.31835938e-04  1.31843154e-04  6.59324010e-05 ...  0.00000000e+00\n",
      "   1.31864802e-04  1.31843154e-04]\n",
      " ...\n",
      " [ 3.95507813e-04  3.95529461e-04  3.29662005e-04 ... -7.25454851e-04\n",
      "  -6.59324010e-04 -6.59215768e-04]\n",
      " [-2.63671875e-03 -2.63686307e-03 -2.63729604e-03 ...  8.57355733e-04\n",
      "   9.23053614e-04  9.88823652e-04]\n",
      " [-3.29589844e-04 -3.29607884e-04 -3.29662005e-04 ...  1.31900882e-04\n",
      "   1.31864802e-04  1.31843154e-04]]\n"
     ]
    }
   ],
   "source": [
    "frames = split_frames(data, window, 0.8)\n",
    "print(len(data), frames)"
   ]
  },
  {
   "cell_type": "code",
   "execution_count": 6,
   "id": "bb5f61cb-6761-40a3-91b5-e7950eef6616",
   "metadata": {},
   "outputs": [],
   "source": [
    "''' \n",
    "This functions adds back the multiples frames into single frame. \n",
    "Inputs are: \n",
    "1. frames,\n",
    "2. n len of the input signal, obtained while reading input, if not available pass -1\n",
    "3. Overlap factor (usually 0.5).\n",
    "Returns: frame.\n",
    "'''\n",
    "def merge_frames(frames, n, overlap=0.5):\n",
    "    \n",
    "    nf, nw = frames.shape\n",
    "    step = math.floor(nw*(1-overlap))   \n",
    "    if n == -1:\n",
    "        n = (nf-1) * step + nw\n",
    "    frame = np.zeros(n)\n",
    "\n",
    "    for i in range(nf):\n",
    "        offset = i * step\n",
    "        frame[offset : nw + offset] += frames[i, :]\n",
    "    \n",
    "    return frame"
   ]
  },
  {
   "cell_type": "code",
   "execution_count": 8,
   "id": "8a6222f3-7f00-4499-8a51-5dc651069355",
   "metadata": {},
   "outputs": [
    {
     "name": "stdout",
     "output_type": "stream",
     "text": [
      "[0.00000000e+00 6.59215768e-05 6.59324010e-05 ... 0.00000000e+00\n",
      " 0.00000000e+00 0.00000000e+00]\n"
     ]
    }
   ],
   "source": [
    "x = merge_frames(frames, len(data), 0.8)\n",
    "print(x)\n",
    "sf.write('/Users/rajeshr/Desktop/outcheck.wav', x, fs)"
   ]
  },
  {
   "cell_type": "code",
   "execution_count": null,
   "id": "6fefb970-e3db-4991-8ea4-499a112590ce",
   "metadata": {},
   "outputs": [],
   "source": []
  }
 ],
 "metadata": {
  "kernelspec": {
   "display_name": "Python 3",
   "language": "python",
   "name": "python3"
  },
  "language_info": {
   "codemirror_mode": {
    "name": "ipython",
    "version": 3
   },
   "file_extension": ".py",
   "mimetype": "text/x-python",
   "name": "python",
   "nbconvert_exporter": "python",
   "pygments_lexer": "ipython3",
   "version": "3.9.6"
  }
 },
 "nbformat": 4,
 "nbformat_minor": 5
}
