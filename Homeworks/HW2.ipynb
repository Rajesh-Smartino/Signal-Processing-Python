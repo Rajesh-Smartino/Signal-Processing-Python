{
 "cells": [
  {
   "cell_type": "code",
   "execution_count": 11,
   "id": "f89e1b6a-c273-46c7-80f2-8204ff74c94d",
   "metadata": {},
   "outputs": [
    {
     "name": "stdout",
     "output_type": "stream",
     "text": [
      "3.0000\n"
     ]
    }
   ],
   "source": [
    "data = [1, 2, 3, 4, 5]\n",
    "\n",
    "sumdata = 0\n",
    "for i in range(len(data)):\n",
    "    sumdata += data[i]\n",
    "    \n",
    "mean = '{:.4f}'.format(float(sumdata/len(data)))\n",
    "print(mean)"
   ]
  },
  {
   "cell_type": "code",
   "execution_count": 14,
   "id": "154ce948-eee8-4437-9d31-a5a362bfc4f5",
   "metadata": {},
   "outputs": [
    {
     "data": {
      "text/plain": [
       "2"
      ]
     },
     "execution_count": 14,
     "metadata": {},
     "output_type": "execute_result"
    }
   ],
   "source": [
    "x = 3\n",
    "data[int(x/2)]"
   ]
  },
  {
   "cell_type": "code",
   "execution_count": 21,
   "id": "f47341fc-50e4-4191-87b9-70c515673700",
   "metadata": {},
   "outputs": [
    {
     "name": "stdout",
     "output_type": "stream",
     "text": [
      "3.0000,3.0000,1.0000,2.0000\n"
     ]
    }
   ],
   "source": [
    "# Code for Mean\n",
    "def fun(data):\n",
    "    totval = 0\n",
    "    for i in range(len(data)):\n",
    "        totval += data[i]\n",
    "    \n",
    "    intmean = totval/len(data)\n",
    "    mean = '{:.4f}'.format(float(totval/len(data)))   \n",
    "    \n",
    "    # Code of Median\n",
    "    data = sorted(data)   \n",
    "    if len(data)%2 == 0:\n",
    "        median = int((data[int(len(data)/2)]+data[int((len(data)/2))+1])/2)\n",
    "    else:\n",
    "        median = '{:.4f}'.format(float(data[int(len(data)/2)]))\n",
    "        \n",
    "    #code for mode\n",
    "    mode = '{:.4f}'.format(float(max(set(data), key = data.count)))\n",
    "    \n",
    "    #code for variance\n",
    "    secondmoment = 0\n",
    "    for i in range(len(data)):\n",
    "        secondmoment += (data[i] - intmean)*(data[i] - intmean)\n",
    "    variance = '{:.4f}'.format(float(secondmoment/len(data)))\n",
    "    \n",
    "    return str(mean)+\",\"+str(median)+\",\"+str(mode)+\",\"+str(variance)\n",
    "\n",
    "data = [2,3,4,5,1,2,3,4,5,3]\n",
    "data = [1,2,3,4,5]\n",
    "print(fun(data))"
   ]
  },
  {
   "cell_type": "code",
   "execution_count": 33,
   "id": "f1ff08b0-bfcc-4226-8e7a-de471256d7b1",
   "metadata": {},
   "outputs": [
    {
     "name": "stdout",
     "output_type": "stream",
     "text": [
      "2\n",
      "3\n"
     ]
    }
   ],
   "source": [
    "n = 72\n",
    "for i in range(2,n + 1):\n",
    "    if n % i == 0:\n",
    "        count = 1\n",
    "        for j in range(2,(i//2 + 1)):\n",
    "            if(i % j == 0):\n",
    "                count = 0\n",
    "                break\n",
    "        if(count == 1):\n",
    "            print(i)"
   ]
  },
  {
   "cell_type": "code",
   "execution_count": null,
   "id": "fb8b00ed-02dd-445e-aaca-4f320a696b23",
   "metadata": {},
   "outputs": [],
   "source": []
  }
 ],
 "metadata": {
  "kernelspec": {
   "display_name": "Python 3",
   "language": "python",
   "name": "python3"
  },
  "language_info": {
   "codemirror_mode": {
    "name": "ipython",
    "version": 3
   },
   "file_extension": ".py",
   "mimetype": "text/x-python",
   "name": "python",
   "nbconvert_exporter": "python",
   "pygments_lexer": "ipython3",
   "version": "3.9.6"
  }
 },
 "nbformat": 4,
 "nbformat_minor": 5
}
