{
 "cells": [
  {
   "cell_type": "markdown",
   "id": "f54533ae-3d3a-4f44-8725-64b9cd9632ed",
   "metadata": {},
   "source": [
    "Question 1: Accept a character x from the user. If a day of the week starts with x, print the day. Else print “No day starts with x”. Use your own mechanism to fix clashes."
   ]
  },
  {
   "cell_type": "code",
   "execution_count": 19,
   "id": "1a114259-2012-4e90-8b18-5c54618a2e43",
   "metadata": {},
   "outputs": [
    {
     "name": "stdin",
     "output_type": "stream",
     "text": [
      " t\n"
     ]
    },
    {
     "name": "stdout",
     "output_type": "stream",
     "text": [
      "Two results found, more details needed\n",
      "Enter the second letter\n"
     ]
    },
    {
     "name": "stdin",
     "output_type": "stream",
     "text": [
      " u\n"
     ]
    },
    {
     "name": "stdout",
     "output_type": "stream",
     "text": [
      "Tuesday\n"
     ]
    }
   ],
   "source": [
    "def day_of_the_week(char):\n",
    "    x = ['s','S','m','M','t','T','w','W','f','F']\n",
    "    if char in x:\n",
    "        if char == 'm' or char == 'M':\n",
    "            print(\"Monday\")\n",
    "        elif char == 'w' or char == 'W':\n",
    "            print(\"Wednesday\")\n",
    "        elif char == 'f' or char == 'F':\n",
    "            print(\"Friday\")\n",
    "        else:\n",
    "            print(\"Two results found, more details needed\")\n",
    "            print(\"Enter the second letter\")\n",
    "            char2 = input()\n",
    "            if char2 == 'u' or char2 == 'U':\n",
    "                if char == 's' or char2 == 'S':\n",
    "                    print(\"Sunday\")\n",
    "                else:\n",
    "                    print(\"Tuesday\")\n",
    "            elif char2 == 'a' or char2 == 'A':\n",
    "                print(\"Saturday\")\n",
    "            elif char2 == 'h' or  char2 == 'H':\n",
    "                print(\"Thursday\")\n",
    "            else:\n",
    "                print(\"No Such Results\")\n",
    "        pass\n",
    "    else:\n",
    "        print(\"Enter Valid Character\")\n",
    "        \n",
    "char = input()\n",
    "day_of_the_week(char)"
   ]
  },
  {
   "cell_type": "markdown",
   "id": "e67cb877-05fa-4df0-9c2d-dcce15de15ab",
   "metadata": {},
   "source": [
    "Question 2: Accept a string and print it in reverse"
   ]
  },
  {
   "cell_type": "code",
   "execution_count": 20,
   "id": "120dce9f-630e-48b8-b748-6d78126ef285",
   "metadata": {},
   "outputs": [
    {
     "name": "stdin",
     "output_type": "stream",
     "text": [
      " Rajesh\n"
     ]
    },
    {
     "name": "stdout",
     "output_type": "stream",
     "text": [
      "hsejaR\n"
     ]
    }
   ],
   "source": [
    "string = input()\n",
    "print(string[::-1])"
   ]
  },
  {
   "cell_type": "markdown",
   "id": "a867563a-0cdc-48cd-ab3a-79b35489d49e",
   "metadata": {},
   "source": [
    "Question 3: Accept a number and print its multiplication table neatly"
   ]
  },
  {
   "cell_type": "code",
   "execution_count": 27,
   "id": "30139eb6-0b36-4522-9dd1-1d288f98d2ba",
   "metadata": {},
   "outputs": [
    {
     "name": "stdin",
     "output_type": "stream",
     "text": [
      " 12\n",
      " 12\n"
     ]
    },
    {
     "name": "stdout",
     "output_type": "stream",
     "text": [
      "12x1=12\n",
      "12x2=24\n",
      "12x3=36\n",
      "12x4=48\n",
      "12x5=60\n",
      "12x6=72\n",
      "12x7=84\n",
      "12x8=96\n",
      "12x9=108\n",
      "12x10=120\n",
      "12x11=132\n",
      "12x12=144\n"
     ]
    }
   ],
   "source": [
    "number = int(input())\n",
    "Range = int(input())\n",
    "for i in range(1,Range+1):\n",
    "    print(str(number)+\"x\"+str(i)+\"=\"+str(number*i))"
   ]
  },
  {
   "cell_type": "markdown",
   "id": "44a02919-029f-4d3f-8b86-d454621c1e13",
   "metadata": {},
   "source": [
    "Question 4: Accept a string and:\n",
    "– Print its length,\n",
    "– Print it in reverse\n",
    "– Change the case to uppercase and print it\n",
    "– Count the number of times the first character appears in the string"
   ]
  },
  {
   "cell_type": "code",
   "execution_count": 35,
   "id": "b8586da9-4f9b-417a-83bf-fdb513e9a4bd",
   "metadata": {},
   "outputs": [
    {
     "name": "stdin",
     "output_type": "stream",
     "text": [
      " I love my India\n"
     ]
    },
    {
     "name": "stdout",
     "output_type": "stream",
     "text": [
      "Length of the string is  15\n",
      "Reverse order is  aidnI ym evol I\n",
      "Upper case is  I LOVE MY INDIA\n",
      "The letter I appears 3 times\n"
     ]
    }
   ],
   "source": [
    "string = input()\n",
    "print(\"Length of the string is \", len(string))\n",
    "print(\"Reverse order is \", string[::-1])\n",
    "print(\"Upper case is \", string.upper())\n",
    "\n",
    "k = string[0].upper()\n",
    "count = 0\n",
    "for i in range(len(string)):\n",
    "    if k == string[i].upper():\n",
    "        count += 1\n",
    "print(\"The letter \"+str(k)+\" appears \"+str(count)+\" times\")\n"
   ]
  },
  {
   "cell_type": "markdown",
   "id": "c8ea7dda-83bd-4b54-8f05-970565141d35",
   "metadata": {},
   "source": [
    "Question 5: Accept a quadratic equation and print it, and print its roots"
   ]
  },
  {
   "cell_type": "code",
   "execution_count": 44,
   "id": "ce22e8f7-f25b-4d72-93b0-8c0e6b10c70f",
   "metadata": {},
   "outputs": [
    {
     "name": "stdout",
     "output_type": "stream",
     "text": [
      " Quadratic solver: ax^2 + bx + c = 0\n",
      "Enter the coefficients of x^2, x and constant respectively\n"
     ]
    },
    {
     "name": "stdin",
     "output_type": "stream",
     "text": [
      " 1\n",
      " 2\n",
      " 2\n"
     ]
    },
    {
     "name": "stdout",
     "output_type": "stream",
     "text": [
      "The roots are complex\n",
      "The roots are -1.0+i1.0 and -1.0-i1.0\n"
     ]
    }
   ],
   "source": [
    "import math\n",
    "\n",
    "print(\" Quadratic solver: ax^2 + bx + c = 0\")\n",
    "print(\"Enter the coefficients of x^2, x and constant respectively\")\n",
    "a = int(input())\n",
    "b = int(input())\n",
    "c = int(input())\n",
    "d = (b*b)-(4*a*c)\n",
    "if d>0:\n",
    "    print(\"The roots are real and distinct\")\n",
    "    print(\"The roots are \"+str(((-b)+(math.sqrt(d)))/(2*a))+\" and \"+str(((-b)-(math.sqrt(d)))/(2*a)))\n",
    "if d==0:\n",
    "    print(\"The roots are real and equal\")\n",
    "    print(((-b)+(math.sqrt(d)))/(2*a))\n",
    "if d<0:\n",
    "    print(\"The roots are complex\")\n",
    "    real = -b/(2*a)\n",
    "    img = math.sqrt(-d)/(2*a)\n",
    "    print(\"The roots are \"+str(real)+\"+i\"+str(img)+\" and \"+str(real)+\"-i\"+str(img))"
   ]
  },
  {
   "cell_type": "markdown",
   "id": "284fe7e2-cd2d-4b1a-af7b-b3ff84c4c0ca",
   "metadata": {},
   "source": [
    "Question 6: Accept a sentence and split it into words"
   ]
  },
  {
   "cell_type": "code",
   "execution_count": 46,
   "id": "605f2c7b-7228-46ac-8338-34f078a5152d",
   "metadata": {},
   "outputs": [
    {
     "name": "stdin",
     "output_type": "stream",
     "text": [
      " India is my love\n"
     ]
    },
    {
     "name": "stdout",
     "output_type": "stream",
     "text": [
      "['India', 'is', 'my', 'love']\n"
     ]
    }
   ],
   "source": [
    "sentence = input()\n",
    "words = sentence.split(\" \")\n",
    "print(words)"
   ]
  },
  {
   "cell_type": "code",
   "execution_count": null,
   "id": "a3f64af5-bad4-468c-8365-939918388c58",
   "metadata": {},
   "outputs": [],
   "source": []
  }
 ],
 "metadata": {
  "kernelspec": {
   "display_name": "Python 3",
   "language": "python",
   "name": "python3"
  },
  "language_info": {
   "codemirror_mode": {
    "name": "ipython",
    "version": 3
   },
   "file_extension": ".py",
   "mimetype": "text/x-python",
   "name": "python",
   "nbconvert_exporter": "python",
   "pygments_lexer": "ipython3",
   "version": "3.9.6"
  }
 },
 "nbformat": 4,
 "nbformat_minor": 5
}
